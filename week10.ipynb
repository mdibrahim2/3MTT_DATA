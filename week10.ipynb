{
  "nbformat": 4,
  "nbformat_minor": 0,
  "metadata": {
    "colab": {
      "provenance": []
    },
    "kernelspec": {
      "name": "python3",
      "display_name": "Python 3"
    },
    "language_info": {
      "name": "python"
    }
  },
  "cells": [
    {
      "cell_type": "code",
      "execution_count": 3,
      "metadata": {
        "id": "5NHCOKgbvc8K"
      },
      "outputs": [],
      "source": [
        "import pandas as pd\n"
      ]
    },
    {
      "cell_type": "markdown",
      "source": [
        "# Load and inspect the dataset\n"
      ],
      "metadata": {
        "id": "23PSLqUVwQh1"
      }
    },
    {
      "cell_type": "code",
      "source": [
        "data = {'Name': ['Mdi', 'Umar', 'Abdullahi', 'Hassan', 'Sani'],'Age': [25,None,35,38,50],'City': ['New York', 'Lagos', 'Kigali', 'None', 'Paris'],'Gender': ['Male', 'None', 'Male', 'None', 'Female'],'Height': [1.4,None,1.3,1.6,1.7]}\n",
        "df = pd.DataFrame(data)"
      ],
      "metadata": {
        "id": "uirc5BtwwXVI"
      },
      "execution_count": 23,
      "outputs": []
    },
    {
      "cell_type": "code",
      "source": [
        "print(df.head())"
      ],
      "metadata": {
        "colab": {
          "base_uri": "https://localhost:8080/"
        },
        "id": "G7Br7i5u0nGV",
        "outputId": "3f532e2c-4243-40da-dced-f0ee8f8cb5c5"
      },
      "execution_count": 24,
      "outputs": [
        {
          "output_type": "stream",
          "name": "stdout",
          "text": [
            "   Name   Age      City  Gender  Height\n",
            "0  John  25.0  New York    Male     1.4\n",
            "1   Sam   NaN     Lagos    None     NaN\n",
            "2  Mike  35.0    Kigali    Male     1.3\n",
            "3  Jude  38.0      None    None     1.6\n",
            "4  Mary  50.0     Paris  Female     1.7\n"
          ]
        }
      ]
    },
    {
      "cell_type": "markdown",
      "source": [
        "# Identifying missing values"
      ],
      "metadata": {
        "id": "vLiWV4sC0yFu"
      }
    },
    {
      "cell_type": "code",
      "source": [
        "missing_values = df.isnull().sum()\n",
        "print(missing_values)"
      ],
      "metadata": {
        "colab": {
          "base_uri": "https://localhost:8080/"
        },
        "id": "Hh792ys01esy",
        "outputId": "a3af41ee-a953-487d-b0b4-678194671e43"
      },
      "execution_count": 25,
      "outputs": [
        {
          "output_type": "stream",
          "name": "stdout",
          "text": [
            "Name      0\n",
            "Age       1\n",
            "City      0\n",
            "Gender    0\n",
            "Height    1\n",
            "dtype: int64\n"
          ]
        }
      ]
    },
    {
      "cell_type": "markdown",
      "source": [
        "# identifying numerical columns"
      ],
      "metadata": {
        "id": "RCEloxgN9Tvt"
      }
    },
    {
      "cell_type": "code",
      "source": [
        "numerical_columns = df.select_dtypes(include='number').columns"
      ],
      "metadata": {
        "id": "9IunW07x9QdG"
      },
      "execution_count": 32,
      "outputs": []
    },
    {
      "cell_type": "markdown",
      "source": [
        "# choose appropriate data imputation method\n",
        "use mean imputation for numerical columns"
      ],
      "metadata": {
        "id": "tOCO7kct4MNa"
      }
    },
    {
      "cell_type": "code",
      "source": [
        "df_filled = df.copy()"
      ],
      "metadata": {
        "id": "FOOHdKp97ErV"
      },
      "execution_count": 33,
      "outputs": []
    },
    {
      "cell_type": "markdown",
      "source": [
        "# for columns in numerical_columns"
      ],
      "metadata": {
        "id": "Amec0ikm-Hg_"
      }
    },
    {
      "cell_type": "code",
      "source": [
        "for column in numerical_columns:\n",
        " mean_value = df[column].mean()\n",
        " df_filled[column].fillna(mean_value,inplace=True)\n",
        "print(df_filled)\n"
      ],
      "metadata": {
        "colab": {
          "base_uri": "https://localhost:8080/"
        },
        "id": "Y2f1Nwc_-RU4",
        "outputId": "a5cdf82e-4a22-4b52-bfd0-6477185219fc"
      },
      "execution_count": 37,
      "outputs": [
        {
          "output_type": "stream",
          "name": "stdout",
          "text": [
            "   Name   Age      City  Gender  Height\n",
            "0  mdi  25.0  New York    Male     1.4\n",
            "1   sani  37.0     Turkey    None     1.2\n",
            "2  Mike  35.0    Kenya    Male     1.3\n",
            "3  bilya  38.0      None    None     1.6\n",
            "4  Mary  50.0     Paris  Female     1.7\n"
          ]
        }
      ]
    }
  ]
}
